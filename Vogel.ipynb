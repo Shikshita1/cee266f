{
 "cells": [
  {
   "cell_type": "code",
   "execution_count": 122,
   "id": "24781e97",
   "metadata": {},
   "outputs": [],
   "source": [
    "import numpy as np\n",
    "import pandas as pd\n",
    "import matplotlib.pyplot as plt\n",
    "import statsmodels.api as sm\n",
    "import scipy.stats as ss\n",
    "import common_func as cf"
   ]
  },
  {
   "cell_type": "code",
   "execution_count": 123,
   "id": "189d647e",
   "metadata": {},
   "outputs": [],
   "source": [
    "def find_trend(y, years):\n",
    "    X_sm = sm.add_constant(years)\n",
    "    lr = sm.OLS(y, X_sm).fit()\n",
    "    print(lr.summary(alpha = 0.1))\n",
    "    return lr.params\n",
    "    "
   ]
  },
  {
   "cell_type": "code",
   "execution_count": 124,
   "id": "779012cd",
   "metadata": {},
   "outputs": [],
   "source": [
    "def fit_exp(maxP, years):\n",
    "    lnmaxP = np.log(maxP)\n",
    "    alpha, beta = find_trend(lnmaxP, years)\n",
    "    ybar,std, skew = cf.findmoments(lnmaxP)\n",
    "    print(ybar,std, skew)\n",
    "    n =len(years)\n",
    "    tbar = np.mean(years)\n",
    "    print(tbar)\n",
    "    zp = ss.norm.ppf(0.99)\n",
    "    print(zp)\n",
    "    xp = np.exp(ybar + beta*(years - tbar) + zp * std)\n",
    "    return xp,beta\n",
    "    "
   ]
  },
  {
   "cell_type": "code",
   "execution_count": 131,
   "id": "2db4b44b",
   "metadata": {},
   "outputs": [],
   "source": [
    "def vogel_results(beta,del_t, rp,std):\n",
    "    mag_f = np.exp(beta * del_t)\n",
    "    cdf = 1-1/rp\n",
    "    z_po = ss.norm.ppf(cdf)\n",
    "    T_f = 1 /(1 - ss.norm.cdf(z_po -  beta * del_t/ std))\n",
    "    return mag_f, T_f"
   ]
  },
  {
   "cell_type": "code",
   "execution_count": 138,
   "id": "df2e2733",
   "metadata": {},
   "outputs": [
    {
     "name": "stdout",
     "output_type": "stream",
     "text": [
      "                            OLS Regression Results                            \n",
      "==============================================================================\n",
      "Dep. Variable:                      y   R-squared:                       0.049\n",
      "Model:                            OLS   Adj. R-squared:                  0.035\n",
      "Method:                 Least Squares   F-statistic:                     3.648\n",
      "Date:                Sat, 26 Feb 2022   Prob (F-statistic):             0.0602\n",
      "Time:                        16:50:52   Log-Likelihood:                -24.507\n",
      "No. Observations:                  73   AIC:                             53.01\n",
      "Df Residuals:                      71   BIC:                             57.59\n",
      "Df Model:                           1                                         \n",
      "Covariance Type:            nonrobust                                         \n",
      "==============================================================================\n",
      "                 coef    std err          t      P>|t|       [0.05       0.95]\n",
      "------------------------------------------------------------------------------\n",
      "const         -6.2205      3.785     -1.644      0.105     -12.528       0.087\n",
      "x1             0.0036      0.002      1.910      0.060       0.000       0.007\n",
      "==============================================================================\n",
      "Omnibus:                        5.291   Durbin-Watson:                   2.194\n",
      "Prob(Omnibus):                  0.071   Jarque-Bera (JB):                3.151\n",
      "Skew:                           0.309   Prob(JB):                        0.207\n",
      "Kurtosis:                       2.192   Cond. No.                     1.87e+05\n",
      "==============================================================================\n",
      "\n",
      "Notes:\n",
      "[1] Standard Errors assume that the covariance matrix of the errors is correctly specified.\n",
      "[2] The condition number is large, 1.87e+05. This might indicate that there are\n",
      "strong multicollinearity or other numerical problems.\n",
      "1.0078496405389856 0.3494905644017995 0.23438875171295936\n",
      "1985.0\n",
      "2.3263478740408408\n",
      "6.177330820062013\n"
     ]
    },
    {
     "data": {
      "image/png": "[encoded data removed]",
      "text/plain": [
       "<Figure size 432x288 with 1 Axes>"
      ]
     },
     "metadata": {
      "needs_background": "light"
     },
     "output_type": "display_data"
    },
    {
     "data": {
      "image/png": "[encoded data removed]",
      "text/plain": [
       "<Figure size 432x288 with 1 Axes>"
      ]
     },
     "metadata": {
      "needs_background": "light"
     },
     "output_type": "display_data"
    }
   ],
   "source": [
    "data = pd.read_csv('precip.csv')\n",
    "maxP, years = cf.annual_max(data)\n",
    "lnmaxP = np.log(maxP)\n",
    "ybar,std, skew = cf.findmoments(lnmaxP)\n",
    "m, beta = fit_exp(maxP, years)\n",
    "zp = ss.norm.ppf(0.99)\n",
    "xp = np.exp(ybar + zp * std)\n",
    "print(xp)\n",
    "plt.plot(years,m)\n",
    "plt.show()\n",
    "return_periods = np.arange(20,500)\n",
    "mag_f, T_f = vogel_results(0.1,10, return_periods,std)\n",
    "plt.plot(T_f, return_periods)\n",
    "plt.show()"
   ]
  },
  {
   "cell_type": "code",
   "execution_count": null,
   "id": "ec08b5e7",
   "metadata": {},
   "outputs": [],
   "source": []
  },
  {
   "cell_type": "code",
   "execution_count": null,
   "id": "ba4cf3a8",
   "metadata": {},
   "outputs": [],
   "source": []
  },
  {
   "cell_type": "code",
   "execution_count": null,
   "id": "96e8bf76",
   "metadata": {},
   "outputs": [],
   "source": []
  }
 ],
 "metadata": {
  "kernelspec": {
   "display_name": "Python 3",
   "language": "python",
   "name": "python3"
  },
  "language_info": {
   "codemirror_mode": {
    "name": "ipython",
    "version": 3
   },
   "file_extension": ".py",
   "mimetype": "text/x-python",
   "name": "python",
   "nbconvert_exporter": "python",
   "pygments_lexer": "ipython3",
   "version": "3.8.8"
  }
 },
 "nbformat": 4,
 "nbformat_minor": 5
}
