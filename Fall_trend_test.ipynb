{
 "cells": [
  {
   "cell_type": "code",
   "execution_count": 24,
   "id": "c385847b",
   "metadata": {},
   "outputs": [
    {
     "name": "stdout",
     "output_type": "stream",
     "text": [
      "[11700. 11900. 45600. 26200. 16000. 21400. 24800. 37400. 36000. 45100.\n",
      " 92400. 53100. 53100. 12700. 23400. 33900. 37100. 40300. 17400. 80000.\n",
      " 44800.  8120. 29000.  1400.  1500. 36200. 79000. 48900. 56900. 67500.\n",
      " 25000. 38900. 27600. 40000. 69600. 49400. 68500. 64000.  6600. 41700.\n",
      " 15300. 51700. 41000. 39900. 50000. 91100. 36000. 23500. 19000. 30100.\n",
      " 82000. 86700. 40000. 65000. 28600. 23600. 54000. 56000. 47900. 73700.\n",
      " 17500. 41300. 52100. 29200. 30200. 88200. 50000. 59300. 90100. 65900.\n",
      " 17000. 78600. 29400. 60000. 41100. 45500. 29900. 36600. 54400. 42200.\n",
      " 54100. 36100.]\n"
     ]
    }
   ],
   "source": [
    "import numpy as np\n",
    "import pandas as pd\n",
    "import scipy.stats as ss\n",
    "import matplotlib.pyplot as plt\n",
    "\n",
    "def Fall_max(data):\n",
    "    data['datetime'] = pd.to_datetime(data['datetime'])\n",
    "\n",
    "    # find year of each data point\n",
    "    data['Year'] = data['datetime'].dt.year\n",
    "    data['Month'] = data['datetime'].dt.month\n",
    "#     data = data[(data['Month']==9) | (data['Month']==10) | (data['Month']==11)]\n",
    "    data = data[(data['Month']==12) | (data['Month']==1) | (data['Month']==2)]\n",
    "    \n",
    "    # find the annual maxima in each year\n",
    "    maxQYear = data.groupby('Year').max()\n",
    "    # Get just the flow vector for annual maxima as numpy array\n",
    "    maxQ = np.array(maxQYear['flowrate'])\n",
    "    # Get just the year vector for annual maxima as numpy array\n",
    "    yearMaxQ = np.array(maxQYear['datetime'].dt.year)\n",
    "    return maxQ, yearMaxQ\n",
    "\n",
    "    \n",
    "# data = pd.read_csv('station_04193500.csv')\n",
    "# Fall_trend = Fall_max(data)\n",
    "# print(Fall_trend[0])\n"
   ]
  },
  {
   "cell_type": "code",
   "execution_count": null,
   "id": "ca031163",
   "metadata": {},
   "outputs": [],
   "source": []
  },
  {
   "cell_type": "code",
   "execution_count": null,
   "id": "dbf34f11",
   "metadata": {},
   "outputs": [],
   "source": []
  }
 ],
 "metadata": {
  "kernelspec": {
   "display_name": "Python 3 (ipykernel)",
   "language": "python",
   "name": "python3"
  },
  "language_info": {
   "codemirror_mode": {
    "name": "ipython",
    "version": 3
   },
   "file_extension": ".py",
   "mimetype": "text/x-python",
   "name": "python",
   "nbconvert_exporter": "python",
   "pygments_lexer": "ipython3",
   "version": "3.9.7"
  }
 },
 "nbformat": 4,
 "nbformat_minor": 5
}
