{
 "cells": [
  {
   "cell_type": "code",
   "execution_count": 10,
   "metadata": {},
   "outputs": [
    {
     "ename": "ImportError",
     "evalue": "cannot import name 'qq' from 'check_ln2' (check_ln2.ipynb)",
     "output_type": "error",
     "traceback": [
      "\u001b[0;31m---------------------------------------------------------------------------\u001b[0m",
      "\u001b[0;31mImportError\u001b[0m                               Traceback (most recent call last)",
      "\u001b[0;32m<ipython-input-10-dff439eea108>\u001b[0m in \u001b[0;36m<module>\u001b[0;34m\u001b[0m\n\u001b[1;32m     12\u001b[0m \u001b[0;32mimport\u001b[0m \u001b[0mimport_ipynb\u001b[0m\u001b[0;34m\u001b[0m\u001b[0;34m\u001b[0m\u001b[0m\n\u001b[1;32m     13\u001b[0m \u001b[0;32mfrom\u001b[0m \u001b[0mVogel\u001b[0m \u001b[0;32mimport\u001b[0m \u001b[0mfind_trend\u001b[0m \u001b[0;32mas\u001b[0m \u001b[0mft\u001b[0m\u001b[0;34m\u001b[0m\u001b[0;34m\u001b[0m\u001b[0m\n\u001b[0;32m---> 14\u001b[0;31m \u001b[0;32mfrom\u001b[0m \u001b[0mcheck_ln2\u001b[0m \u001b[0;32mimport\u001b[0m \u001b[0mfit_dist\u001b[0m\u001b[0;34m,\u001b[0m \u001b[0mqq\u001b[0m\u001b[0;34m\u001b[0m\u001b[0;34m\u001b[0m\u001b[0m\n\u001b[0m",
      "\u001b[0;31mImportError\u001b[0m: cannot import name 'qq' from 'check_ln2' (check_ln2.ipynb)"
     ]
    }
   ],
   "source": [
    "import numpy as np\n",
    "import pandas as pd\n",
    "from matplotlib import pyplot as plt\n",
    "import statsmodels.api as sm\n",
    "import statsmodels.formula.api as smf\n",
    "from scipy import stats as ss\n",
    "import scipy.signal\n",
    "from astropy.stats import bootstrap as bootstrap\n",
    "from statsmodels.tsa.ar_model import AutoReg\n",
    "import math\n",
    "import common_func as cf\n",
    "import import_ipynb\n",
    "from Vogel import find_trend as ft\n",
    "from check_ln2 import fit_dist, qq"
   ]
  },
  {
   "cell_type": "code",
   "execution_count": null,
   "metadata": {},
   "outputs": [],
   "source": [
    "\n",
    "# Function to fit data to a normal distribution, using either MLE or MOM\n",
    "def fitNormal(data, method):\n",
    "    assert method == 'MLE' or method == 'MOM', \"method must = 'MLE' or 'MOM'\"\n",
    "\n",
    "    xbar, std, skew = cf.findmoments(data)\n",
    "\n",
    "    if method == 'MLE':\n",
    "        mu, sigma = ss.norm.fit(data)\n",
    "\n",
    "    elif method == 'MOM':\n",
    "        mu = xbar\n",
    "        sigma = std\n",
    "\n",
    "    return mu, sigma\n",
    "\n",
    "\n",
    "#MannKendall Test\n",
    "\n",
    "# function for determining tie groups and corresponding number of ties.\n",
    "def count_ties(x):\n",
    "    ties = []\n",
    "    y = x\n",
    "    while len(x) > 0: \n",
    "        ties.append(np.where(x == x[0])[0].size)\n",
    "        x = np.delete(x, np.where(x == x[0]))\n",
    "    ties=np.array(ties)\n",
    "    return ties\n",
    "\n",
    "#function for calculating variance in mann kendall test\n",
    "def var(x):\n",
    "    n = len(x)\n",
    "    var = n * (n - 1) * (2 * n + 5)\n",
    "    e = count_ties(x)\n",
    "    extent_sum = np.sum(e * (e - 1) * (2 * e + 5))\n",
    "    return  (var - extent_sum)/18\n",
    "\n",
    "# function for testing pvalue and critical value of mann kendall test\n",
    "def mktest(z):\n",
    "    alpha = 0.1    # alpha = 0.05 \n",
    "    CritVal = np.abs(ss.norm.ppf(alpha / 2))\n",
    "    pvalue = ss.norm.sf(np.abs(z)) * 2 \n",
    "    print('pvalue:',pvalue)\n",
    "# Reject H0 if |Z-Score| > CritVal and, equivalently, if p-value < alpha/2\n",
    "    reject1 = CritVal < np.abs(z)\n",
    "    reject2 = pvalue < alpha\n",
    "    if reject1:\n",
    "        return 'Yes'\n",
    "    return 'No'\n",
    "# Mann Kendall Test\n",
    "def main_mk(maxQ):\n",
    "    T = 0\n",
    "    data = np.log(maxQ)\n",
    "    for j in range(len(data)-1):\n",
    "        t = data[j] - (data[j+1:])\n",
    "        T += (np.where(t < 0))[0].size - (np.where(t > 0))[0].size\n",
    "    variance = var(data)\n",
    "    if T > 0:\n",
    "        z = (T - 1)/(np.sqrt(variance))\n",
    "    else:\n",
    "        z = (T + 1)/(np.sqrt(variance))\n",
    "    print('Z_value:',z)\n",
    "    trend = mktest(z)\n",
    "    print('Is there a monotonic trend?',trend,'\\n')"
   ]
  },
  {
   "cell_type": "code",
   "execution_count": null,
   "metadata": {},
   "outputs": [],
   "source": [
    "# log transformation?\n",
    "mu, sigma = fitNormal(np.log(maxQ),'MOM')\n",
    "rho_log, p_value_log = NormalPPCT(np.log(maxQ), mu, sigma, 'Log Normal PPCT', 'LogNormalPPCT.png')\n",
    "print(rho_log, p_value_log)"
   ]
  },
  {
   "cell_type": "code",
   "execution_count": null,
   "metadata": {},
   "outputs": [],
   "source": [
    "def acf_pacf(maxQ):\n",
    "    sm.graphics.tsa.plot_acf(np.log(maxQ))\n",
    "    plt.show()\n",
    "    sm.graphics.tsa.plot_pacf(np.log(maxQ))\n",
    "    plt.show()"
   ]
  },
  {
   "cell_type": "code",
   "execution_count": null,
   "metadata": {},
   "outputs": [],
   "source": []
  },
  {
   "cell_type": "code",
   "execution_count": null,
   "metadata": {},
   "outputs": [],
   "source": []
  },
  {
   "cell_type": "code",
   "execution_count": null,
   "metadata": {},
   "outputs": [],
   "source": []
  },
  {
   "cell_type": "code",
   "execution_count": null,
   "metadata": {},
   "outputs": [],
   "source": [
    "Data = pd.read_csv('precip.csv')\n",
    "maxQ, yearMaxQ = cf.annual_max(Data)\n",
    "# Get just the year vector for annual maxima as numpy array\n",
    "fig = plt.figure()\n",
    "plt.plot(yearMaxQ, maxQ)\n",
    "plt.xlabel('Year', fontsize=16)\n",
    "plt.ylabel('Precipitation', fontsize=16)\n",
    "plt.title('Annual Precipitation', fontsize=16)\n",
    "fig.set_size_inches([9, 7.25])\n",
    "fig.savefig('Annual Precipitation', dpi=300)\n",
    "plt.show()\n",
    "\n",
    "\n",
    "\n"
   ]
  }
 ],
 "metadata": {
  "interpreter": {
   "hash": "789fe3fdfc3449ee71eb7993b9f109941ec6dd0273d03469c9a2e2bf4ece0429"
  },
  "kernelspec": {
   "display_name": "Python 3",
   "language": "python",
   "name": "python3"
  },
  "language_info": {
   "codemirror_mode": {
    "name": "ipython",
    "version": 3
   },
   "file_extension": ".py",
   "mimetype": "text/x-python",
   "name": "python",
   "nbconvert_exporter": "python",
   "pygments_lexer": "ipython3",
   "version": "3.8.8"
  }
 },
 "nbformat": 4,
 "nbformat_minor": 2
}
